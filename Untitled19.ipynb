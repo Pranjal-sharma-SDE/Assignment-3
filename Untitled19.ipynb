{
  "nbformat": 4,
  "nbformat_minor": 0,
  "metadata": {
    "colab": {
      "provenance": [],
      "authorship_tag": "ABX9TyMlovQCM1h/IREwySxIivxF",
      "include_colab_link": true
    },
    "kernelspec": {
      "name": "python3",
      "display_name": "Python 3"
    },
    "language_info": {
      "name": "python"
    }
  },
  "cells": [
    {
      "cell_type": "markdown",
      "metadata": {
        "id": "view-in-github",
        "colab_type": "text"
      },
      "source": [
        "<a href=\"https://colab.research.google.com/github/Pranjal-sharma-SDE/Assignment-3/blob/main/Untitled19.ipynb\" target=\"_parent\"><img src=\"https://colab.research.google.com/assets/colab-badge.svg\" alt=\"Open In Colab\"/></a>"
      ]
    },
    {
      "cell_type": "markdown",
      "source": [
        "# Ans-2"
      ],
      "metadata": {
        "id": "70pwEgUtFulR"
      }
    },
    {
      "cell_type": "code",
      "execution_count": 1,
      "metadata": {
        "id": "PB0ZGkb-EAat"
      },
      "outputs": [],
      "source": [
        "# Ans- 2\n",
        "spam=[2, 4, 6, 8, 10]\n",
        "spam[2]='hello'\n",
        "spam"
      ]
    },
    {
      "cell_type": "code",
      "source": [],
      "metadata": {
        "id": "geyW3cdVFdN6"
      },
      "execution_count": 2,
      "outputs": []
    },
    {
      "cell_type": "markdown",
      "source": [
        "## Ans-3"
      ],
      "metadata": {
        "id": "0kxJpeGlGKab"
      }
    },
    {
      "cell_type": "code",
      "source": [
        "spam= ['a', 'b', 'c', 'd']"
      ],
      "metadata": {
        "id": "kEFM_PXOFh8m"
      },
      "execution_count": 4,
      "outputs": []
    },
    {
      "cell_type": "code",
      "source": [
        "spam[int(int('3' * 2) / 11)]"
      ],
      "metadata": {
        "colab": {
          "base_uri": "https://localhost:8080/",
          "height": 36
        },
        "id": "HPAs0h-7FizG",
        "outputId": "1184de44-53c2-40e0-d115-f6ec009ed770"
      },
      "execution_count": 5,
      "outputs": [
        {
          "output_type": "execute_result",
          "data": {
            "text/plain": [
              "'d'"
            ],
            "application/vnd.google.colaboratory.intrinsic+json": {
              "type": "string"
            }
          },
          "metadata": {},
          "execution_count": 5
        }
      ]
    },
    {
      "cell_type": "code",
      "source": [
        "spam[-1]"
      ],
      "metadata": {
        "colab": {
          "base_uri": "https://localhost:8080/",
          "height": 36
        },
        "id": "YcTFF-EJG2Ua",
        "outputId": "0e1b9069-3b76-4587-f445-74b737d26367"
      },
      "execution_count": 12,
      "outputs": [
        {
          "output_type": "execute_result",
          "data": {
            "text/plain": [
              "'d'"
            ],
            "application/vnd.google.colaboratory.intrinsic+json": {
              "type": "string"
            }
          },
          "metadata": {},
          "execution_count": 12
        }
      ]
    },
    {
      "cell_type": "code",
      "source": [
        "spam[:2]"
      ],
      "metadata": {
        "colab": {
          "base_uri": "https://localhost:8080/"
        },
        "id": "46B5jQv4GSZY",
        "outputId": "aa0a7a04-f0dc-4074-8833-892994710091"
      },
      "execution_count": 11,
      "outputs": [
        {
          "output_type": "execute_result",
          "data": {
            "text/plain": [
              "['a', 'b']"
            ]
          },
          "metadata": {},
          "execution_count": 11
        }
      ]
    },
    {
      "cell_type": "code",
      "source": [],
      "metadata": {
        "id": "zL2AAK4_GVhI"
      },
      "execution_count": null,
      "outputs": []
    },
    {
      "cell_type": "markdown",
      "source": [
        "# Ans-6"
      ],
      "metadata": {
        "id": "I951MSROHGlV"
      }
    },
    {
      "cell_type": "code",
      "source": [
        "bacon= [3.14, 'cat', 11, 'cat', True]"
      ],
      "metadata": {
        "id": "VT8kPLJAHI7w"
      },
      "execution_count": 15,
      "outputs": []
    },
    {
      "cell_type": "code",
      "source": [
        "bacon.index('cat')"
      ],
      "metadata": {
        "colab": {
          "base_uri": "https://localhost:8080/"
        },
        "id": "R-LfCxgAHKo6",
        "outputId": "f0197d74-2ca4-4096-a377-f0049fb6de57"
      },
      "execution_count": 17,
      "outputs": [
        {
          "output_type": "execute_result",
          "data": {
            "text/plain": [
              "1"
            ]
          },
          "metadata": {},
          "execution_count": 17
        }
      ]
    },
    {
      "cell_type": "code",
      "source": [
        "bacon.remove('cat')"
      ],
      "metadata": {
        "id": "8ZeEILBzHgTQ"
      },
      "execution_count": 18,
      "outputs": []
    },
    {
      "cell_type": "code",
      "source": [
        "bacon"
      ],
      "metadata": {
        "colab": {
          "base_uri": "https://localhost:8080/"
        },
        "id": "beBOA1QDIHHE",
        "outputId": "3bd1005f-bdeb-41e3-b3f6-d3f5192c9070"
      },
      "execution_count": 19,
      "outputs": [
        {
          "output_type": "execute_result",
          "data": {
            "text/plain": [
              "[3.14, 11, 'cat', True]"
            ]
          },
          "metadata": {},
          "execution_count": 19
        }
      ]
    },
    {
      "cell_type": "code",
      "source": [],
      "metadata": {
        "id": "KKh5FFjTIIUp"
      },
      "execution_count": null,
      "outputs": []
    }
  ]
}